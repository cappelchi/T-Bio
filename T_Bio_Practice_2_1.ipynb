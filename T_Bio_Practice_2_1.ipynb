{
  "nbformat": 4,
  "nbformat_minor": 0,
  "metadata": {
    "colab": {
      "name": "T-Bio Practice 2.1.ipynb",
      "provenance": [],
      "collapsed_sections": [],
      "authorship_tag": "ABX9TyOp0cUbYIkgaZXUCC7PSzG/",
      "include_colab_link": true
    },
    "kernelspec": {
      "name": "python3",
      "display_name": "Python 3"
    }
  },
  "cells": [
    {
      "cell_type": "markdown",
      "metadata": {
        "id": "view-in-github",
        "colab_type": "text"
      },
      "source": [
        "<a href=\"https://colab.research.google.com/github/cappelchi/T-Bio/blob/master/T_Bio_Practice_2_1.ipynb\" target=\"_parent\"><img src=\"https://colab.research.google.com/assets/colab-badge.svg\" alt=\"Open In Colab\"/></a>"
      ]
    },
    {
      "cell_type": "markdown",
      "metadata": {
        "id": "2kxXAk32CYIj",
        "colab_type": "text"
      },
      "source": [
        "**Pipeline:**\n",
        "\n",
        "Step 1: Pre-processing raw reads\n",
        "\n",
        "Step 2: Mapping on a reference genome\n",
        "\n",
        "Step 3: Calculating the abundance of reads aligned to each genomic element (i.e. exon, gene or isoform)\n",
        "\n",
        "Step 4: Biological Interpretation of gene expression profiles\n",
        "\n",
        "![Pipeline](https://edu.t-bio.info/wp-content/uploads/2019/12/PDX-Sailfish-DEMO-edit.gif)\n"
      ]
    },
    {
      "cell_type": "code",
      "metadata": {
        "id": "Z9OHLGLhGAGY",
        "colab_type": "code",
        "outputId": "fe49ab7f-68e2-4792-ad96-6e4524a29b73",
        "colab": {
          "base_uri": "https://localhost:8080/",
          "height": 195
        }
      },
      "source": [
        "!head links.svl"
      ],
      "execution_count": 0,
      "outputs": [
        {
          "output_type": "stream",
          "text": [
            "/export-data/sciservice/t15/ER-ERR1084763_1.fq\n",
            "\n",
            "/export-data/sciservice/t15/ER-ERR1084763_2.fq\n",
            "\n",
            "/export-data/sciservice/t15/ER-ERR1084764_1.fq\n",
            "\n",
            "/export-data/sciservice/t15/ER-ERR1084764_2.fq\n",
            "\n",
            "/export-data/sciservice/t15/ER-ERR1084765_1.fq\n",
            "\n"
          ],
          "name": "stdout"
        }
      ]
    },
    {
      "cell_type": "code",
      "metadata": {
        "id": "14MUMfNbGNYi",
        "colab_type": "code",
        "outputId": "7e9d2b7e-5958-419f-e5b8-edee9906f4b0",
        "colab": {
          "base_uri": "https://localhost:8080/",
          "height": 195
        }
      },
      "source": [
        "!head ER-ERR1084763_1.fq"
      ],
      "execution_count": 0,
      "outputs": [
        {
          "output_type": "stream",
          "text": [
            "@ERR1084763.2761803\n",
            "GGCGTTATGGAGTGGAAGTGAAATCACATGGCTAGGCCGGAGGTCATTAGGAGGGCTGAGAGGGCCCCTGTTAGGGGTCATGGGCTGGGT\n",
            "+\n",
            "@@@DDDDDHFDFACDEEF3CFAHFGHIH>EEHIIGHIGHI6?A-B@FGIIICHIEEHBBBBCAA'(9>9@:>CCCAB5<BCCCBBCBBB9\n",
            "@ERR1084763.46715705\n",
            "GTGGGTTTTACTATATGATAGGCATGTGATTGGTGGGTCATTATGTGTTGTCGTGCAGGTAGAGGCTGAGAGGGCCCCTGTTAGGGGTCA\n",
            "+\n",
            "@:?DD)=ADHFDDGIHDHEAHGB?@F9?<ACGC*CD:@DBAD*BG?FHIGDBGFFG@@D.8=;CHGHF;;)7(9>5>8?B>A;59<@'8@\n",
            "@ERR1084763.18852160\n",
            "CTTCTAGTAAGCCTCTACCTGCACGACAACACATAATGACCCACCAATCACATGGCTAGGACCGAGGTCATTAGGAGGGGTGAGGGGGCC\n"
          ],
          "name": "stdout"
        }
      ]
    },
    {
      "cell_type": "markdown",
      "metadata": {
        "id": "5fAaghHgDNgw",
        "colab_type": "text"
      },
      "source": [
        "### Step 1: Pre-processing raw reads "
      ]
    },
    {
      "cell_type": "markdown",
      "metadata": {
        "id": "3b8gTHNdGmdg",
        "colab_type": "text"
      },
      "source": [
        "#### Trimmomatic\n",
        "Trimmomatic algorithm cleans technical sequences (from a database which stores sequences known to be used as adaptors in NGS experiments) from raw sequencing data.\n",
        "\n",
        "<img src=\"https://raw.githubusercontent.com/cappelchi/T-Bio/master/practice2/Trimmomatic.jpg\" width=\"340\" height=\"270\" />"
      ]
    },
    {
      "cell_type": "code",
      "metadata": {
        "id": "BJIS5Z58ITSk",
        "colab_type": "code",
        "outputId": "600ef703-5ee1-47bf-9b90-e78aa6fc9f37",
        "colab": {
          "base_uri": "https://localhost:8080/",
          "height": 195
        }
      },
      "source": [
        "!head ER-ERR1084763_1_trim.fq"
      ],
      "execution_count": 0,
      "outputs": [
        {
          "output_type": "stream",
          "text": [
            "@ERR1084763.2761803\n",
            "GGCGTTATGGAGTGGAAGTGAAATCACATGGCTAGGCCGGAGGTCATTAGGAGGGCTGAGAGGGCCCCTGTTAGGGGTCATGGGCTGGGT\n",
            "+\n",
            "@@@DDDDDHFDFACDEEF3CFAHFGHIH>EEHIIGHIGHI6?A-B@FGIIICHIEEHBBBBCAA'(9>9@:>CCCAB5<BCCCBBCBBB9\n",
            "@ERR1084763.46715705\n",
            "GTGGGTTTTACTATATGATAGGCATGTGATTGGTGGGTCATTATGTGTTGTCGTGCAGGTAGAGGCTGAGAGGGCCCCTGTTAGGGGTCA\n",
            "+\n",
            "@:?DD)=ADHFDDGIHDHEAHGB?@F9?<ACGC*CD:@DBAD*BG?FHIGDBGFFG@@D.8=;CHGHF;;)7(9>5>8?B>A;59<@'8@\n",
            "@ERR1084763.34197928\n",
            "ATAACGCTCCTCATACTAGGCCTACTAACCAACACACTAACCATATACCAATGATGGCGCGATGGAGTGGAAGTGAAATCACATGGCTA\n"
          ],
          "name": "stdout"
        }
      ]
    },
    {
      "cell_type": "markdown",
      "metadata": {
        "id": "eyDAuYc_IYjp",
        "colab_type": "text"
      },
      "source": [
        "###  PCR clean\n",
        "PCR Clean removes all duplicated reads from raw sequencing data. The presence of duplicated reads from polymerase chain reaction (PCR) amplification can distort estimates of gene expression levels.\n",
        "\n",
        "<img src=\" https://raw.githubusercontent.com/cappelchi/T-Bio/master/practice2/PCR_Clean.jpg\" width=\"340\" height=\"270\">"
      ]
    },
    {
      "cell_type": "code",
      "metadata": {
        "id": "RtyugXQFIeQe",
        "colab_type": "code",
        "outputId": "fea837ca-3fdb-412d-816b-fd17d87fdb61",
        "colab": {
          "base_uri": "https://localhost:8080/",
          "height": 195
        }
      },
      "source": [
        "!head ER-ERR1084763_1_trim_pcr.fq"
      ],
      "execution_count": 0,
      "outputs": [
        {
          "output_type": "stream",
          "text": [
            "@ERR1084763.387172/1\n",
            "AAAAAAAAAAAAAAAAAAAAAAAAAAAAAAAAAAAAAAAAAAAAAAAAAAAAAAAAAAAAAA\n",
            "+\n",
            "CCCFFFFFHHHGHJJJHFDDDDDDDDDDDDDDDDDDDDDDDDDDDB98<85-507@5557;@\n",
            "@ERR1084763.548902/1\n",
            "AAAAAAAAAAAAAAATTTCTCTTCTTCCTGTTATTGGTAGTTCTGAACGTTAGATATTTTTTTTCCATGGGGTCAAAAGGTACCTAAG\n",
            "+\n",
            "@@@DDDDDHHHHHI@FHG;@=DC=CCE>C?DE7?CDC>@ACD@C>@A>;?CC?::;@CDECBBBCC>B@?BB9>BCC:>?4:@>@CC?\n",
            "@ERR1084763.135941/1\n",
            "AAAAAAAAAAAAAATTTCTCTTCTTCCTGTTATTGGTAGTTCTGAACGTTAGATATTTTTTTTCCATGGGGTCAAAAGGTACCTAA\n"
          ],
          "name": "stdout"
        }
      ]
    },
    {
      "cell_type": "markdown",
      "metadata": {
        "id": "nGMz5wydQJFh",
        "colab_type": "text"
      },
      "source": [
        "### Step 2: Mapping on Transcripts"
      ]
    },
    {
      "cell_type": "markdown",
      "metadata": {
        "id": "Yhskxax3QLHI",
        "colab_type": "text"
      },
      "source": [
        "#### Bowtie2-t \n",
        "is a version of the bowtie2 algorithm configured to run mapping on transcripts defined in the GTF file.\n",
        "\n",
        "Mapping reads to the reference genome can be computationally expensive and take a long time. This process is essential for short-read sequencing. Bowtie2 is a fast alignment (mapping) algorithm that is based on the “seed” (or k-mer) approach. “Seed” substrings from the read and their reverse complements are extracted and aligned to the reference in an ungapped fashion. Then, their positions on the reference are recorded, they are extended into full alignments using SIMD-accelerated dynamic programming. \n",
        "\n",
        "<img src=\"https://raw.githubusercontent.com/cappelchi/T-Bio/master/practice2/Bowtie2-g.jpg\" width=\"340\" height=\"270\">"
      ]
    },
    {
      "cell_type": "markdown",
      "metadata": {
        "id": "NO5nnzl2SXvH",
        "colab_type": "text"
      },
      "source": [
        "### Step 3: Calculating the abundance of reads aligned to each genomic element (i.e. exon, gene or isoform)"
      ]
    },
    {
      "cell_type": "markdown",
      "metadata": {
        "id": "R7TwsGrlY7N9",
        "colab_type": "text"
      },
      "source": [
        "#### RSEM \n",
        "(RNA Seq using Expectation Maximization). RSEM is a software package for quantifying gene and isoform abundances from single-end or paired-end RNA-Seq data. RSEM outputs abundance estimates, 95% credibility intervals, and visualization files and can also simulate RNA-Seq data. In contrast to other existing tools, the software does not require a reference genome. Thus, in combination with a de novo transcriptome assembler, RSEM enables accurate transcript quantification for species without sequenced genomes. On simulated and real data sets, RSEM has superior or comparable performance to quantification methods that rely on a reference genome. Taking advantage of RSEM's ability to effectively use ambiguously-mapping reads, we show that accurate gene-level abundance estimates are best obtained with large numbers of short single-end reads. On the other hand, estimates of the relative frequencies of isoforms within single genes may be improved through the use of paired-end reads, depending on the number of possible splice forms for each gene.\n",
        "\n",
        "<img src=\"https://raw.githubusercontent.com/cappelchi/T-Bio/master/practice2/gene_expression_table.jpg\" width=\"340\" height=\"270\">"
      ]
    },
    {
      "cell_type": "markdown",
      "metadata": {
        "id": "E_2NjR24kXtb",
        "colab_type": "text"
      },
      "source": [
        "### Step 4: Biological Interpretation of gene expression profiles"
      ]
    },
    {
      "cell_type": "markdown",
      "metadata": {
        "id": "Gl_tQwZJlahM",
        "colab_type": "text"
      },
      "source": [
        ""
      ]
    },
    {
      "cell_type": "code",
      "metadata": {
        "id": "WUys2AcCmTkt",
        "colab_type": "code",
        "colab": {
          "base_uri": "https://localhost:8080/",
          "height": 266
        },
        "outputId": "7969870c-9783-4eea-e0ec-88a3e2229db7"
      },
      "source": [
        "!wget --no-check-certificate --content-disposition https://github.com/cappelchi/T-Bio/blob/master/practice2/PDX_project_pre-processing__bowtie2-t__RSEM_expression_genes_FPKM.txt\n",
        "!curl -LJO https://raw.githubusercontent.com/cappelchi/T-Bio/master/practice2/PDX_project_pre-processing__bowtie2-t__RSEM_expression_genes_FPKM.txt"
      ],
      "execution_count": 7,
      "outputs": [
        {
          "output_type": "stream",
          "text": [
            "--2020-03-04 12:51:42--  https://github.com/cappelchi/T-Bio/blob/master/practice2/PDX_project_pre-processing__bowtie2-t__RSEM_expression_genes_FPKM.txt\n",
            "Resolving github.com (github.com)... 140.82.113.4\n",
            "Connecting to github.com (github.com)|140.82.113.4|:443... connected.\n",
            "HTTP request sent, awaiting response... 200 OK\n",
            "Length: unspecified [text/html]\n",
            "Saving to: ‘PDX_project_pre-processing__bowtie2-t__RSEM_expression_genes_FPKM.txt’\n",
            "\n",
            "PDX_project_pre-pro     [ <=>                ]   1.03M  --.-KB/s    in 0.08s   \n",
            "\n",
            "2020-03-04 12:51:48 (13.3 MB/s) - ‘PDX_project_pre-processing__bowtie2-t__RSEM_expression_genes_FPKM.txt’ saved [1077279]\n",
            "\n",
            "  % Total    % Received % Xferd  Average Speed   Time    Time     Time  Current\n",
            "                                 Dload  Upload   Total   Spent    Left  Speed\n",
            "100  393k  100  393k    0     0  2553k      0 --:--:-- --:--:-- --:--:-- 2553k\n"
          ],
          "name": "stdout"
        }
      ]
    },
    {
      "cell_type": "code",
      "metadata": {
        "id": "5DW9q4Zbmonl",
        "colab_type": "code",
        "colab": {
          "base_uri": "https://localhost:8080/",
          "height": 215
        },
        "outputId": "ee3969e1-1561-4738-c82c-7eca9304d164"
      },
      "source": [
        "!head PDX_project_pre-processing__bowtie2-t__RSEM_expression_genes_FPKM.txt"
      ],
      "execution_count": 8,
      "outputs": [
        {
          "output_type": "stream",
          "text": [
            "id\tER-ERR1084763_PE\tER-ERR1084764_PE\tER-ERR1084765_PE\tER-ERR1084775_PE\tER-ERR1084805_PE\tER-ERR1084806_PE\tER-ERR1084811_PE\tTN-ERR1084766_PE\tTN-ERR1084768_PE\tTN-ERR1084798_PE\tTN-ERR1084799_PE\tTN-ERR1084800_PE\tTN-ERR1084801_PE\tTN-ERR1084802_PE\tTN-ERR1084803_PE\tTN-ERR1084804_PE\tTN-ERR1084807_PE\tTN-ERR1084808_PE\tTN-ERR1084809_PE\tTN-ERR1084810_PE\n",
            "ENSG00000001630\t0.00\t0.00\t0.00\t0.00\t0.00\t0.00\t0.00\t0.00\t0.00\t0.00\t0.00\t0.00\t0.00\t0.00\t0.00\t0.00\t0.00\t23.00\t21.22\t0.00\n",
            "ENSG00000002834\t18107.99\t19943.94\t19480.73\t16688.86\t11468.35\t25380.75\t25531.70\t6908.48\t1392.67\t19009.15\t12868.90\t8726.15\t8844.10\t9536.82\t15575.65\t6247.11\t7130.97\t9967.39\t4307.43\t13905.67\n",
            "ENSG00000003402\t0.90\t0.00\t0.93\t1.70\t0.00\t1.49\t3.56\t0.00\t0.77\t2.84\t0.00\t2.22\t1.76\t4.63\t0.00\t1.96\t1.58\t4.70\t3.72\t7.24\n",
            "ENSG00000003436\t0.00\t0.00\t0.00\t1.09\t1.03\t0.00\t0.00\t0.00\t0.00\t3.73\t1.07\t0.00\t1.00\t0.00\t1.02\t0.00\t0.00\t0.00\t1.01\t0.00\n",
            "ENSG00000003509\t0.00\t0.00\t0.00\t0.00\t0.00\t0.00\t0.00\t0.00\t0.00\t0.00\t0.00\t0.00\t0.00\t0.00\t0.00\t0.00\t0.00\t0.00\t0.00\t3.30\n",
            "ENSG00000004534\t0.00\t0.00\t0.00\t0.00\t0.00\t1.76\t0.00\t0.00\t0.00\t0.00\t0.00\t0.00\t0.00\t0.00\t0.00\t0.00\t0.00\t0.00\t0.00\t0.00\n",
            "ENSG00000004766\t0.00\t0.00\t0.00\t0.00\t0.00\t0.00\t0.00\t0.00\t0.00\t2.83\t0.00\t0.00\t0.00\t0.00\t0.00\t0.00\t0.00\t0.00\t4.42\t0.00\n",
            "ENSG00000004961\t1946.90\t1780.11\t2274.11\t1157.46\t1729.10\t590.15\t825.29\t3184.76\t827.57\t569.83\t3387.97\t794.45\t1208.91\t893.74\t3009.45\t1703.64\t864.87\t1267.56\t1546.54\t1537.29\n",
            "ENSG00000005073\t0.00\t0.00\t0.00\t0.00\t8.24\t0.00\t12.39\t900.16\t2362.15\t13.29\t24.76\t665.33\t0.00\t0.00\t63.07\t7.20\t286.31\t166.41\t81.43\t14.25\n"
          ],
          "name": "stdout"
        }
      ]
    },
    {
      "cell_type": "code",
      "metadata": {
        "id": "BNNtZeMqmwnV",
        "colab_type": "code",
        "colab": {}
      },
      "source": [
        "import pandas as pd"
      ],
      "execution_count": 0,
      "outputs": []
    },
    {
      "cell_type": "code",
      "metadata": {
        "id": "MlUpbogJm09Y",
        "colab_type": "code",
        "colab": {}
      },
      "source": [
        "df = pd.read_csv('PDX_project_pre-processing__bowtie2-t__RSEM_expression_genes_FPKM.txt', sep = '\\s+')"
      ],
      "execution_count": 0,
      "outputs": []
    },
    {
      "cell_type": "code",
      "metadata": {
        "id": "Qc3vj7Nrm9d-",
        "colab_type": "code",
        "colab": {
          "base_uri": "https://localhost:8080/",
          "height": 457
        },
        "outputId": "fef701d1-e3a3-419c-ea63-5a15837d0c9f"
      },
      "source": [
        "df"
      ],
      "execution_count": 13,
      "outputs": [
        {
          "output_type": "execute_result",
          "data": {
            "text/html": [
              "<div>\n",
              "<style scoped>\n",
              "    .dataframe tbody tr th:only-of-type {\n",
              "        vertical-align: middle;\n",
              "    }\n",
              "\n",
              "    .dataframe tbody tr th {\n",
              "        vertical-align: top;\n",
              "    }\n",
              "\n",
              "    .dataframe thead th {\n",
              "        text-align: right;\n",
              "    }\n",
              "</style>\n",
              "<table border=\"1\" class=\"dataframe\">\n",
              "  <thead>\n",
              "    <tr style=\"text-align: right;\">\n",
              "      <th></th>\n",
              "      <th>id</th>\n",
              "      <th>ER-ERR1084763_PE</th>\n",
              "      <th>ER-ERR1084764_PE</th>\n",
              "      <th>ER-ERR1084765_PE</th>\n",
              "      <th>ER-ERR1084775_PE</th>\n",
              "      <th>ER-ERR1084805_PE</th>\n",
              "      <th>ER-ERR1084806_PE</th>\n",
              "      <th>ER-ERR1084811_PE</th>\n",
              "      <th>TN-ERR1084766_PE</th>\n",
              "      <th>TN-ERR1084768_PE</th>\n",
              "      <th>TN-ERR1084798_PE</th>\n",
              "      <th>TN-ERR1084799_PE</th>\n",
              "      <th>TN-ERR1084800_PE</th>\n",
              "      <th>TN-ERR1084801_PE</th>\n",
              "      <th>TN-ERR1084802_PE</th>\n",
              "      <th>TN-ERR1084803_PE</th>\n",
              "      <th>TN-ERR1084804_PE</th>\n",
              "      <th>TN-ERR1084807_PE</th>\n",
              "      <th>TN-ERR1084808_PE</th>\n",
              "      <th>TN-ERR1084809_PE</th>\n",
              "      <th>TN-ERR1084810_PE</th>\n",
              "    </tr>\n",
              "  </thead>\n",
              "  <tbody>\n",
              "    <tr>\n",
              "      <th>0</th>\n",
              "      <td>ENSG00000001630</td>\n",
              "      <td>0.00</td>\n",
              "      <td>0.00</td>\n",
              "      <td>0.00</td>\n",
              "      <td>0.00</td>\n",
              "      <td>0.00</td>\n",
              "      <td>0.00</td>\n",
              "      <td>0.00</td>\n",
              "      <td>0.00</td>\n",
              "      <td>0.00</td>\n",
              "      <td>0.00</td>\n",
              "      <td>0.00</td>\n",
              "      <td>0.00</td>\n",
              "      <td>0.00</td>\n",
              "      <td>0.00</td>\n",
              "      <td>0.00</td>\n",
              "      <td>0.00</td>\n",
              "      <td>0.00</td>\n",
              "      <td>23.00</td>\n",
              "      <td>21.22</td>\n",
              "      <td>0.00</td>\n",
              "    </tr>\n",
              "    <tr>\n",
              "      <th>1</th>\n",
              "      <td>ENSG00000002834</td>\n",
              "      <td>18107.99</td>\n",
              "      <td>19943.94</td>\n",
              "      <td>19480.73</td>\n",
              "      <td>16688.86</td>\n",
              "      <td>11468.35</td>\n",
              "      <td>25380.75</td>\n",
              "      <td>25531.70</td>\n",
              "      <td>6908.48</td>\n",
              "      <td>1392.67</td>\n",
              "      <td>19009.15</td>\n",
              "      <td>12868.90</td>\n",
              "      <td>8726.15</td>\n",
              "      <td>8844.10</td>\n",
              "      <td>9536.82</td>\n",
              "      <td>15575.65</td>\n",
              "      <td>6247.11</td>\n",
              "      <td>7130.97</td>\n",
              "      <td>9967.39</td>\n",
              "      <td>4307.43</td>\n",
              "      <td>13905.67</td>\n",
              "    </tr>\n",
              "    <tr>\n",
              "      <th>2</th>\n",
              "      <td>ENSG00000003402</td>\n",
              "      <td>0.90</td>\n",
              "      <td>0.00</td>\n",
              "      <td>0.93</td>\n",
              "      <td>1.70</td>\n",
              "      <td>0.00</td>\n",
              "      <td>1.49</td>\n",
              "      <td>3.56</td>\n",
              "      <td>0.00</td>\n",
              "      <td>0.77</td>\n",
              "      <td>2.84</td>\n",
              "      <td>0.00</td>\n",
              "      <td>2.22</td>\n",
              "      <td>1.76</td>\n",
              "      <td>4.63</td>\n",
              "      <td>0.00</td>\n",
              "      <td>1.96</td>\n",
              "      <td>1.58</td>\n",
              "      <td>4.70</td>\n",
              "      <td>3.72</td>\n",
              "      <td>7.24</td>\n",
              "    </tr>\n",
              "    <tr>\n",
              "      <th>3</th>\n",
              "      <td>ENSG00000003436</td>\n",
              "      <td>0.00</td>\n",
              "      <td>0.00</td>\n",
              "      <td>0.00</td>\n",
              "      <td>1.09</td>\n",
              "      <td>1.03</td>\n",
              "      <td>0.00</td>\n",
              "      <td>0.00</td>\n",
              "      <td>0.00</td>\n",
              "      <td>0.00</td>\n",
              "      <td>3.73</td>\n",
              "      <td>1.07</td>\n",
              "      <td>0.00</td>\n",
              "      <td>1.00</td>\n",
              "      <td>0.00</td>\n",
              "      <td>1.02</td>\n",
              "      <td>0.00</td>\n",
              "      <td>0.00</td>\n",
              "      <td>0.00</td>\n",
              "      <td>1.01</td>\n",
              "      <td>0.00</td>\n",
              "    </tr>\n",
              "    <tr>\n",
              "      <th>4</th>\n",
              "      <td>ENSG00000003509</td>\n",
              "      <td>0.00</td>\n",
              "      <td>0.00</td>\n",
              "      <td>0.00</td>\n",
              "      <td>0.00</td>\n",
              "      <td>0.00</td>\n",
              "      <td>0.00</td>\n",
              "      <td>0.00</td>\n",
              "      <td>0.00</td>\n",
              "      <td>0.00</td>\n",
              "      <td>0.00</td>\n",
              "      <td>0.00</td>\n",
              "      <td>0.00</td>\n",
              "      <td>0.00</td>\n",
              "      <td>0.00</td>\n",
              "      <td>0.00</td>\n",
              "      <td>0.00</td>\n",
              "      <td>0.00</td>\n",
              "      <td>0.00</td>\n",
              "      <td>0.00</td>\n",
              "      <td>3.30</td>\n",
              "    </tr>\n",
              "    <tr>\n",
              "      <th>...</th>\n",
              "      <td>...</td>\n",
              "      <td>...</td>\n",
              "      <td>...</td>\n",
              "      <td>...</td>\n",
              "      <td>...</td>\n",
              "      <td>...</td>\n",
              "      <td>...</td>\n",
              "      <td>...</td>\n",
              "      <td>...</td>\n",
              "      <td>...</td>\n",
              "      <td>...</td>\n",
              "      <td>...</td>\n",
              "      <td>...</td>\n",
              "      <td>...</td>\n",
              "      <td>...</td>\n",
              "      <td>...</td>\n",
              "      <td>...</td>\n",
              "      <td>...</td>\n",
              "      <td>...</td>\n",
              "      <td>...</td>\n",
              "      <td>...</td>\n",
              "    </tr>\n",
              "    <tr>\n",
              "      <th>3305</th>\n",
              "      <td>ENSMUSG00000097705</td>\n",
              "      <td>0.00</td>\n",
              "      <td>0.00</td>\n",
              "      <td>0.00</td>\n",
              "      <td>74.51</td>\n",
              "      <td>125.65</td>\n",
              "      <td>0.00</td>\n",
              "      <td>0.00</td>\n",
              "      <td>0.00</td>\n",
              "      <td>5.23</td>\n",
              "      <td>47.45</td>\n",
              "      <td>41.95</td>\n",
              "      <td>11.18</td>\n",
              "      <td>130.55</td>\n",
              "      <td>0.00</td>\n",
              "      <td>74.65</td>\n",
              "      <td>31.42</td>\n",
              "      <td>28.59</td>\n",
              "      <td>437.45</td>\n",
              "      <td>0.00</td>\n",
              "      <td>71.00</td>\n",
              "    </tr>\n",
              "    <tr>\n",
              "      <th>3306</th>\n",
              "      <td>ENSMUSG00000097779</td>\n",
              "      <td>10.28</td>\n",
              "      <td>9.52</td>\n",
              "      <td>31.24</td>\n",
              "      <td>0.00</td>\n",
              "      <td>6.20</td>\n",
              "      <td>5.64</td>\n",
              "      <td>0.00</td>\n",
              "      <td>58.04</td>\n",
              "      <td>0.00</td>\n",
              "      <td>0.00</td>\n",
              "      <td>12.41</td>\n",
              "      <td>0.00</td>\n",
              "      <td>39.16</td>\n",
              "      <td>8.59</td>\n",
              "      <td>5.95</td>\n",
              "      <td>21.69</td>\n",
              "      <td>0.00</td>\n",
              "      <td>730.10</td>\n",
              "      <td>46.76</td>\n",
              "      <td>4.28</td>\n",
              "    </tr>\n",
              "    <tr>\n",
              "      <th>3307</th>\n",
              "      <td>ENSMUSG00000097873</td>\n",
              "      <td>0.00</td>\n",
              "      <td>0.00</td>\n",
              "      <td>0.00</td>\n",
              "      <td>0.00</td>\n",
              "      <td>3.72</td>\n",
              "      <td>0.00</td>\n",
              "      <td>0.00</td>\n",
              "      <td>0.00</td>\n",
              "      <td>0.00</td>\n",
              "      <td>3.20</td>\n",
              "      <td>3.03</td>\n",
              "      <td>0.00</td>\n",
              "      <td>0.00</td>\n",
              "      <td>0.00</td>\n",
              "      <td>0.00</td>\n",
              "      <td>0.00</td>\n",
              "      <td>1.82</td>\n",
              "      <td>3.03</td>\n",
              "      <td>0.00</td>\n",
              "      <td>0.00</td>\n",
              "    </tr>\n",
              "    <tr>\n",
              "      <th>3308</th>\n",
              "      <td>ENSMUSG00000098650</td>\n",
              "      <td>0.00</td>\n",
              "      <td>0.00</td>\n",
              "      <td>0.00</td>\n",
              "      <td>0.00</td>\n",
              "      <td>0.00</td>\n",
              "      <td>0.00</td>\n",
              "      <td>207.83</td>\n",
              "      <td>712.00</td>\n",
              "      <td>8.49</td>\n",
              "      <td>0.00</td>\n",
              "      <td>0.00</td>\n",
              "      <td>50.91</td>\n",
              "      <td>31.01</td>\n",
              "      <td>68.03</td>\n",
              "      <td>54.68</td>\n",
              "      <td>0.00</td>\n",
              "      <td>0.00</td>\n",
              "      <td>0.00</td>\n",
              "      <td>0.00</td>\n",
              "      <td>222.61</td>\n",
              "    </tr>\n",
              "    <tr>\n",
              "      <th>3309</th>\n",
              "      <td>ENSMUSG00000099115</td>\n",
              "      <td>0.00</td>\n",
              "      <td>0.00</td>\n",
              "      <td>0.00</td>\n",
              "      <td>0.00</td>\n",
              "      <td>0.00</td>\n",
              "      <td>0.00</td>\n",
              "      <td>0.00</td>\n",
              "      <td>0.00</td>\n",
              "      <td>0.00</td>\n",
              "      <td>0.00</td>\n",
              "      <td>0.00</td>\n",
              "      <td>0.00</td>\n",
              "      <td>0.00</td>\n",
              "      <td>0.00</td>\n",
              "      <td>0.00</td>\n",
              "      <td>0.00</td>\n",
              "      <td>0.00</td>\n",
              "      <td>12.51</td>\n",
              "      <td>0.00</td>\n",
              "      <td>0.00</td>\n",
              "    </tr>\n",
              "  </tbody>\n",
              "</table>\n",
              "<p>3310 rows × 21 columns</p>\n",
              "</div>"
            ],
            "text/plain": [
              "                      id  ER-ERR1084763_PE  ...  TN-ERR1084809_PE  TN-ERR1084810_PE\n",
              "0        ENSG00000001630              0.00  ...             21.22              0.00\n",
              "1        ENSG00000002834          18107.99  ...           4307.43          13905.67\n",
              "2        ENSG00000003402              0.90  ...              3.72              7.24\n",
              "3        ENSG00000003436              0.00  ...              1.01              0.00\n",
              "4        ENSG00000003509              0.00  ...              0.00              3.30\n",
              "...                  ...               ...  ...               ...               ...\n",
              "3305  ENSMUSG00000097705              0.00  ...              0.00             71.00\n",
              "3306  ENSMUSG00000097779             10.28  ...             46.76              4.28\n",
              "3307  ENSMUSG00000097873              0.00  ...              0.00              0.00\n",
              "3308  ENSMUSG00000098650              0.00  ...              0.00            222.61\n",
              "3309  ENSMUSG00000099115              0.00  ...              0.00              0.00\n",
              "\n",
              "[3310 rows x 21 columns]"
            ]
          },
          "metadata": {
            "tags": []
          },
          "execution_count": 13
        }
      ]
    }
  ]
}