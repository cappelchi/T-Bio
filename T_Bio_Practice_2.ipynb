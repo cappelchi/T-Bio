{
  "nbformat": 4,
  "nbformat_minor": 0,
  "metadata": {
    "colab": {
      "name": "T-Bio Practice 2.ipynb",
      "provenance": [],
      "collapsed_sections": [],
      "authorship_tag": "ABX9TyNxp/ncA1IPQJTkEFZ11ZNm",
      "include_colab_link": true
    },
    "kernelspec": {
      "name": "python3",
      "display_name": "Python 3"
    }
  },
  "cells": [
    {
      "cell_type": "markdown",
      "metadata": {
        "id": "view-in-github",
        "colab_type": "text"
      },
      "source": [
        "<a href=\"https://colab.research.google.com/github/cappelchi/T-Bio/blob/master/T_Bio_Practice_2.ipynb\" target=\"_parent\"><img src=\"https://colab.research.google.com/assets/colab-badge.svg\" alt=\"Open In Colab\"/></a>"
      ]
    },
    {
      "cell_type": "markdown",
      "metadata": {
        "id": "5gT8M1GAS9uS",
        "colab_type": "text"
      },
      "source": [
        "![Pipeline](https://edu.t-bio.info/wp-content/uploads/2019/12/PDX-Sailfish-DEMO-edit.gif)"
      ]
    },
    {
      "cell_type": "markdown",
      "metadata": {
        "id": "YCeYCfTQdKnr",
        "colab_type": "text"
      },
      "source": [
        "## **Pipeline n.1:**"
      ]
    },
    {
      "cell_type": "markdown",
      "metadata": {
        "id": "2kxXAk32CYIj",
        "colab_type": "text"
      },
      "source": [
        "### Description:\n",
        "\n",
        "Step 1: Pre-processing raw reads\n",
        "\n",
        "Step 2: Mapping on a reference genome\n",
        "\n",
        "Step 3: Calculating the abundance of reads aligned to each genomic element (i.e. exon, gene or isoform)\n",
        "\n",
        "Step 4: Biological Interpretation of gene expression profiles\n",
        "\n",
        "<img src=\"https://raw.githubusercontent.com/cappelchi/T-Bio/master/practice2/pipeline1/Pipeline1.png\" width=\"600\" height=\"300\" />\n"
      ]
    },
    {
      "cell_type": "markdown",
      "metadata": {
        "id": "5fAaghHgDNgw",
        "colab_type": "text"
      },
      "source": [
        "### Step 1: Pre-processing raw reads "
      ]
    },
    {
      "cell_type": "markdown",
      "metadata": {
        "id": "3b8gTHNdGmdg",
        "colab_type": "text"
      },
      "source": [
        "#### Trimmomatic\n",
        "Trimmomatic algorithm cleans technical sequences (from a database which stores sequences known to be used as adaptors in NGS experiments) from raw sequencing data.\n",
        "\n",
        "<img src=\"https://raw.githubusercontent.com/cappelchi/T-Bio/master/practice2/Trimmomatic.jpg\" width=\"340\" height=\"270\" />"
      ]
    },
    {
      "cell_type": "markdown",
      "metadata": {
        "id": "eyDAuYc_IYjp",
        "colab_type": "text"
      },
      "source": [
        "###  PCR clean\n",
        "PCR Clean removes all duplicated reads from raw sequencing data. The presence of duplicated reads from polymerase chain reaction (PCR) amplification can distort estimates of gene expression levels.\n",
        "\n",
        "<img src=\" https://raw.githubusercontent.com/cappelchi/T-Bio/master/practice2/PCR_Clean.jpg\" width=\"340\" height=\"270\">"
      ]
    },
    {
      "cell_type": "markdown",
      "metadata": {
        "id": "nGMz5wydQJFh",
        "colab_type": "text"
      },
      "source": [
        "### Step 2: Mapping on Transcripts"
      ]
    },
    {
      "cell_type": "markdown",
      "metadata": {
        "id": "Yhskxax3QLHI",
        "colab_type": "text"
      },
      "source": [
        "#### Bowtie2-t \n",
        "is a version of the bowtie2 algorithm configured to run mapping on transcripts defined in the GTF file.\n",
        "\n",
        "Mapping reads to the reference genome can be computationally expensive and take a long time. This process is essential for short-read sequencing. Bowtie2 is a fast alignment (mapping) algorithm that is based on the “seed” (or k-mer) approach. “Seed” substrings from the read and their reverse complements are extracted and aligned to the reference in an ungapped fashion. Then, their positions on the reference are recorded, they are extended into full alignments using SIMD-accelerated dynamic programming. \n",
        "\n",
        "<img src=\"https://raw.githubusercontent.com/cappelchi/T-Bio/master/practice2/Bowtie2-g.jpg\" width=\"340\" height=\"270\">"
      ]
    },
    {
      "cell_type": "markdown",
      "metadata": {
        "id": "NO5nnzl2SXvH",
        "colab_type": "text"
      },
      "source": [
        "### Step 3: Calculating the abundance of reads aligned to each genomic element (i.e. exon, gene or isoform)"
      ]
    },
    {
      "cell_type": "markdown",
      "metadata": {
        "id": "R7TwsGrlY7N9",
        "colab_type": "text"
      },
      "source": [
        "#### RSEM \n",
        "(RNA Seq using Expectation Maximization). RSEM is a software package for quantifying gene and isoform abundances from single-end or paired-end RNA-Seq data. RSEM outputs abundance estimates, 95% credibility intervals, and visualization files and can also simulate RNA-Seq data. In contrast to other existing tools, the software does not require a reference genome. Thus, in combination with a de novo transcriptome assembler, RSEM enables accurate transcript quantification for species without sequenced genomes. On simulated and real data sets, RSEM has superior or comparable performance to quantification methods that rely on a reference genome. Taking advantage of RSEM's ability to effectively use ambiguously-mapping reads, we show that accurate gene-level abundance estimates are best obtained with large numbers of short single-end reads. On the other hand, estimates of the relative frequencies of isoforms within single genes may be improved through the use of paired-end reads, depending on the number of possible splice forms for each gene.\n",
        "\n",
        "<img src=\"https://raw.githubusercontent.com/cappelchi/T-Bio/master/practice2/gene_expression_table.jpg\" width=\"340\" height=\"270\">"
      ]
    },
    {
      "cell_type": "markdown",
      "metadata": {
        "id": "E_2NjR24kXtb",
        "colab_type": "text"
      },
      "source": [
        "### Step 4: Biological Interpretation of gene expression profiles"
      ]
    },
    {
      "cell_type": "code",
      "metadata": {
        "id": "ZZS7rl5no2qo",
        "colab_type": "code",
        "colab": {}
      },
      "source": [
        "mypath = '/content/pipeline1/'"
      ],
      "execution_count": 0,
      "outputs": []
    },
    {
      "cell_type": "code",
      "metadata": {
        "id": "1ucQk6rRTbMk",
        "colab_type": "code",
        "outputId": "2432866e-7e09-4385-d1fa-a0c9ec280107",
        "colab": {
          "base_uri": "https://localhost:8080/",
          "height": 390
        }
      },
      "source": [
        "!wget https://raw.githubusercontent.com/cappelchi/T-Bio/master/practice2/pipeline1/PDX_project_pre-processing__bowtie2-t__RSEM_AllResultsRSEMRun.zip\n",
        "!unzip PDX_project_pre-processing__bowtie2-t__RSEM_AllResultsRSEMRun.zip -d mypath"
      ],
      "execution_count": 33,
      "outputs": [
        {
          "output_type": "stream",
          "text": [
            "--2020-03-05 12:52:43--  https://raw.githubusercontent.com/cappelchi/T-Bio/master/practice2/pipeline1/PDX_project_pre-processing__bowtie2-t__RSEM_AllResultsRSEMRun.zip\n",
            "Resolving raw.githubusercontent.com (raw.githubusercontent.com)... 151.101.0.133, 151.101.64.133, 151.101.128.133, ...\n",
            "Connecting to raw.githubusercontent.com (raw.githubusercontent.com)|151.101.0.133|:443... connected.\n",
            "HTTP request sent, awaiting response... 200 OK\n",
            "Length: 3040179 (2.9M) [application/zip]\n",
            "Saving to: ‘PDX_project_pre-processing__bowtie2-t__RSEM_AllResultsRSEMRun.zip.1’\n",
            "\n",
            "\r          PDX_proje   0%[                    ]       0  --.-KB/s               \r         PDX_projec  63%[===========>        ]   1.83M  9.10MB/s               \rPDX_project_pre-pro 100%[===================>]   2.90M  10.9MB/s    in 0.3s    \n",
            "\n",
            "2020-03-05 12:52:43 (10.9 MB/s) - ‘PDX_project_pre-processing__bowtie2-t__RSEM_AllResultsRSEMRun.zip.1’ saved [3040179/3040179]\n",
            "\n",
            "Archive:  PDX_project_pre-processing__bowtie2-t__RSEM_AllResultsRSEMRun.zip\n",
            "  inflating: mypath/expression_genes_FPKM_not_filtered.txt  \n",
            "  inflating: mypath/expression_genes_FPKM.txt  \n",
            "  inflating: mypath/expression_genes_not_filtered.txt  \n",
            "  inflating: mypath/expression_genes.txt  \n",
            "  inflating: mypath/expression_isoforms_FPKM_not_filtered.txt  \n",
            "  inflating: mypath/expression_isoforms_FPKM.txt  \n",
            "  inflating: mypath/expression_isoforms_not_filtered.txt  \n",
            "  inflating: mypath/expression_isoforms.txt  \n",
            "  inflating: mypath/temp.txt         \n"
          ],
          "name": "stdout"
        }
      ]
    },
    {
      "cell_type": "code",
      "metadata": {
        "id": "NCsOCiJbcFHn",
        "colab_type": "code",
        "colab": {}
      },
      "source": [
        "#!pip install jupyter-datatables\n",
        "#!pip install pandas-summary"
      ],
      "execution_count": 0,
      "outputs": []
    },
    {
      "cell_type": "code",
      "metadata": {
        "id": "BNNtZeMqmwnV",
        "colab_type": "code",
        "colab": {}
      },
      "source": [
        "import pandas as pd\n",
        "#from jupyter_datatables import init_datatables_mode\n",
        "#init_datatables_mode()  # initialize [DataTables]\n",
        "#from pandas_summary import DataFrameSummary\n",
        "from os import listdir\n",
        "from os.path import isfile, join"
      ],
      "execution_count": 0,
      "outputs": []
    },
    {
      "cell_type": "code",
      "metadata": {
        "id": "v0t5Z15poqn_",
        "colab_type": "code",
        "colab": {}
      },
      "source": [
        "results = [f for f in listdir(mypath) if isfile(join(mypath, f))]"
      ],
      "execution_count": 0,
      "outputs": []
    },
    {
      "cell_type": "code",
      "metadata": {
        "id": "W1ZhXHxC1iQb",
        "colab_type": "code",
        "colab": {
          "base_uri": "https://localhost:8080/",
          "height": 1000
        },
        "outputId": "182e47f1-fbd3-4f78-ae2b-478af0a2ef74"
      },
      "source": [
        "for result in results:\n",
        "    comand = f'{result[:-4]} = pd.read_csv(\"{mypath + result}\", sep = \"\\s+\")'\n",
        "    exec(comand)\n",
        "    print (result[:-4])\n",
        "    exec(f'print ({result[:-4]}.describe())')"
      ],
      "execution_count": 54,
      "outputs": [
        {
          "output_type": "stream",
          "text": [
            "expression_genes_FPKM\n",
            "       ER-ERR1084763_PE  ER-ERR1084764_PE  ...  TN-ERR1084809_PE  TN-ERR1084810_PE\n",
            "count       3310.000000       3310.000000  ...       3310.000000        3310.00000\n",
            "mean         248.134335        252.239305  ...        307.271483         287.03629\n",
            "std         3580.248232       3467.634219  ...       3731.114167        3714.63254\n",
            "min            0.000000          0.000000  ...          0.000000           0.00000\n",
            "25%            0.000000          0.000000  ...          0.000000           0.00000\n",
            "50%            0.000000          0.000000  ...          0.000000           0.00000\n",
            "75%            0.000000          0.000000  ...          4.697500           2.55000\n",
            "max       110309.210000     102040.800000  ...     113424.790000      123289.43000\n",
            "\n",
            "[8 rows x 20 columns]\n",
            "temp\n",
            "       ER-ERR1084763_PE  ER-ERR1084764_PE  ...  TN-ERR1084809_PE  TN-ERR1084810_PE\n",
            "count       4981.000000       4981.000000  ...       4981.000000       4981.000000\n",
            "mean         164.891508        167.619364  ...        204.189376        190.742425\n",
            "std         2313.838779       2322.859579  ...       2691.070898       2394.280063\n",
            "min            0.000000          0.000000  ...          0.000000          0.000000\n",
            "25%            0.000000          0.000000  ...          0.000000          0.000000\n",
            "50%            0.000000          0.000000  ...          0.000000          0.000000\n",
            "75%            0.000000          0.000000  ...          4.960000          2.740000\n",
            "max        75785.630000      85074.960000  ...     113160.900000     114576.000000\n",
            "\n",
            "[8 rows x 20 columns]\n",
            "expression_genes\n",
            "       ER-ERR1084763_PE  ER-ERR1084764_PE  ...  TN-ERR1084809_PE  TN-ERR1084810_PE\n",
            "count       3266.000000       3266.000000  ...       3266.000000       3266.000000\n",
            "mean          23.546396         24.972186  ...         40.760814         54.926880\n",
            "std          359.937564        366.870857  ...        446.496205        591.253812\n",
            "min            0.000000          0.000000  ...          0.000000          0.000000\n",
            "25%            0.000000          0.000000  ...          0.000000          0.000000\n",
            "50%            0.000000          0.000000  ...          0.000000          0.000000\n",
            "75%            0.000000          0.000000  ...          1.000000          1.000000\n",
            "max        14753.160000      14150.690000  ...      17199.950000      19684.360000\n",
            "\n",
            "[8 rows x 20 columns]\n",
            "expression_genes_FPKM_not_filtered\n",
            "       ER-ERR1084763_PE  ER-ERR1084764_PE  ...  TN-ERR1084809_PE  TN-ERR1084810_PE\n",
            "count      96697.000000      96697.000000  ...      96697.000000      96697.000000\n",
            "mean           8.493801          8.634312  ...         10.518142          9.825641\n",
            "std          663.838719        643.108972  ...        692.469690        689.142373\n",
            "min            0.000000          0.000000  ...          0.000000          0.000000\n",
            "25%            0.000000          0.000000  ...          0.000000          0.000000\n",
            "50%            0.000000          0.000000  ...          0.000000          0.000000\n",
            "75%            0.000000          0.000000  ...          0.000000          0.000000\n",
            "max       110309.210000     102040.800000  ...     113424.790000     123289.430000\n",
            "\n",
            "[8 rows x 20 columns]\n",
            "expression_isoforms_not_filtered\n",
            "       ER-ERR1084763_PE  ER-ERR1084764_PE  ...  TN-ERR1084809_PE  TN-ERR1084810_PE\n",
            "count     290899.000000     290899.000000  ...     290899.000000     290899.000000\n",
            "mean           0.264373          0.280372  ...          0.457667          0.616709\n",
            "std           31.253007         32.159690  ...         40.304040         49.542262\n",
            "min            0.000000          0.000000  ...          0.000000          0.000000\n",
            "25%            0.000000          0.000000  ...          0.000000          0.000000\n",
            "50%            0.000000          0.000000  ...          0.000000          0.000000\n",
            "75%            0.000000          0.000000  ...          0.000000          0.000000\n",
            "max         9926.070000       9753.870000  ...      13325.140000      12595.030000\n",
            "\n",
            "[8 rows x 20 columns]\n",
            "expression_isoforms\n",
            "       ER-ERR1084763_PE  ER-ERR1084764_PE  ...  TN-ERR1084809_PE  TN-ERR1084810_PE\n",
            "count       4865.000000       4865.000000  ...       4865.000000       4865.000000\n",
            "mean          15.806925         16.764218  ...         27.361998         36.872993\n",
            "std          241.184847        248.149235  ...        310.506088        381.383853\n",
            "min            0.000000          0.000000  ...          0.000000          0.000000\n",
            "25%            0.000000          0.000000  ...          0.000000          0.000000\n",
            "50%            0.000000          0.000000  ...          0.000000          0.000000\n",
            "75%            0.000000          0.000000  ...          1.000000          1.000000\n",
            "max         9926.070000       9753.870000  ...      13325.140000      12595.030000\n",
            "\n",
            "[8 rows x 20 columns]\n",
            "expression_isoforms_FPKM\n",
            "       ER-ERR1084763_PE  ER-ERR1084764_PE  ...  TN-ERR1084809_PE  TN-ERR1084810_PE\n",
            "count       4981.000000       4981.000000  ...       4981.000000       4981.000000\n",
            "mean         164.891508        167.619364  ...        204.189376        190.742425\n",
            "std         2313.838779       2322.859579  ...       2691.070898       2394.280063\n",
            "min            0.000000          0.000000  ...          0.000000          0.000000\n",
            "25%            0.000000          0.000000  ...          0.000000          0.000000\n",
            "50%            0.000000          0.000000  ...          0.000000          0.000000\n",
            "75%            0.000000          0.000000  ...          4.960000          2.740000\n",
            "max        75785.630000      85074.960000  ...     113160.900000     114576.000000\n",
            "\n",
            "[8 rows x 20 columns]\n",
            "expression_isoforms_FPKM_not_filtered\n",
            "       ER-ERR1084763_PE  ER-ERR1084764_PE  ...  TN-ERR1084809_PE  TN-ERR1084810_PE\n",
            "count     290899.000000     290899.000000  ...     290899.000000     290899.000000\n",
            "mean           2.823403          2.870110  ...          3.496309          3.266116\n",
            "std          303.500078        304.702496  ...        353.097784        314.246084\n",
            "min            0.000000          0.000000  ...          0.000000          0.000000\n",
            "25%            0.000000          0.000000  ...          0.000000          0.000000\n",
            "50%            0.000000          0.000000  ...          0.000000          0.000000\n",
            "75%            0.000000          0.000000  ...          0.000000          0.000000\n",
            "max        75785.630000      85074.960000  ...     113160.900000     114576.000000\n",
            "\n",
            "[8 rows x 20 columns]\n",
            "expression_genes_not_filtered\n",
            "       ER-ERR1084763_PE  ER-ERR1084764_PE  ...  TN-ERR1084809_PE  TN-ERR1084810_PE\n",
            "count      96697.000000      96697.000000  ...      96697.000000      96697.000000\n",
            "mean           0.795330          0.843459  ...          1.376827          1.855280\n",
            "std           66.276693         67.564847  ...         82.375336        109.097566\n",
            "min            0.000000          0.000000  ...          0.000000          0.000000\n",
            "25%            0.000000          0.000000  ...          0.000000          0.000000\n",
            "50%            0.000000          0.000000  ...          0.000000          0.000000\n",
            "75%            0.000000          0.000000  ...          0.000000          0.000000\n",
            "max        14753.160000      14150.690000  ...      17199.950000      19684.360000\n",
            "\n",
            "[8 rows x 20 columns]\n"
          ],
          "name": "stdout"
        }
      ]
    },
    {
      "cell_type": "markdown",
      "metadata": {
        "colab_type": "text",
        "id": "44lRVEi7gxpo"
      },
      "source": [
        "## **Pipeline n.2:**"
      ]
    },
    {
      "cell_type": "markdown",
      "metadata": {
        "colab_type": "text",
        "id": "qlCx-LIygxp7"
      },
      "source": [
        "### Description:\n",
        "\n",
        "Step: no Pre-processing raw reads\n",
        "\n",
        "Step: no Mapping on a reference genome\n",
        "\n",
        "Step 1: Calculating the abundance of reads with Sailfish\n",
        "\n",
        "Step 2: Biological Interpretation of gene expression profiles\n",
        "\n",
        "<img src=\"https://raw.githubusercontent.com/cappelchi/T-Bio/master/practice2/pipeline2/Pipeline2.png\" width=\"600\" height=\"300\" />"
      ]
    },
    {
      "cell_type": "markdown",
      "metadata": {
        "colab_type": "text",
        "id": "MP1RiBgBcqm1"
      },
      "source": [
        "### Step 1: Calculating the abundance of reads with Sailfish"
      ]
    },
    {
      "cell_type": "markdown",
      "metadata": {
        "colab_type": "text",
        "id": "X6869jLdcqm9"
      },
      "source": [
        "#### Sailfish\n",
        "\n",
        "Sailfish is a computational method for quantifying the abundance of previously annotated RNA isoforms from RNA-seq data. The method entirely avoids mapping reads, a time-consuming step in all current methods, and provides quantification estimates much faster than do existing approaches (typically 20 times faster) without loss of accuracy. Sailfish exemplifies a lightweight algorithm for time-efficient quantification of isoform expression analysis.\n",
        "\n",
        "<img src=\"https://raw.githubusercontent.com/cappelchi/T-Bio/master/practice2/Sailfish-algorithm.jpg\" width=\"340\" height=\"270\" />"
      ]
    },
    {
      "cell_type": "code",
      "metadata": {
        "id": "TI1OGX17kBAN",
        "colab_type": "code",
        "colab": {}
      },
      "source": [
        "mypath = '/content/pipeline2/'"
      ],
      "execution_count": 0,
      "outputs": []
    },
    {
      "cell_type": "code",
      "metadata": {
        "id": "x6gZt6SM4_80",
        "colab_type": "code",
        "colab": {
          "base_uri": "https://localhost:8080/",
          "height": 337
        },
        "outputId": "113050d8-f699-4fe8-a06b-5d0ee2dd4cf9"
      },
      "source": [
        "!wget https://raw.githubusercontent.com/cappelchi/T-Bio/master/practice2/pipeline2/PDX_-_sailfish_-_new.zip\n",
        "!unzip PDX_-_sailfish_-_new.zip -d {mypath}"
      ],
      "execution_count": 60,
      "outputs": [
        {
          "output_type": "stream",
          "text": [
            "--2020-03-05 13:34:54--  https://raw.githubusercontent.com/cappelchi/T-Bio/master/practice2/pipeline2/PDX_-_sailfish_-_new.zip\n",
            "Resolving raw.githubusercontent.com (raw.githubusercontent.com)... 151.101.0.133, 151.101.64.133, 151.101.128.133, ...\n",
            "Connecting to raw.githubusercontent.com (raw.githubusercontent.com)|151.101.0.133|:443... connected.\n",
            "HTTP request sent, awaiting response... 200 OK\n",
            "Length: 4189340 (4.0M) [application/zip]\n",
            "Saving to: ‘PDX_-_sailfish_-_new.zip.1’\n",
            "\n",
            "\r          PDX_-_sai   0%[                    ]       0  --.-KB/s               \r         PDX_-_sail  80%[===============>    ]   3.21M  16.0MB/s               \rPDX_-_sailfish_-_ne 100%[===================>]   4.00M  17.4MB/s    in 0.2s    \n",
            "\n",
            "2020-03-05 13:34:54 (17.4 MB/s) - ‘PDX_-_sailfish_-_new.zip.1’ saved [4189340/4189340]\n",
            "\n",
            "Archive:  PDX_-_sailfish_-_new.zip\n",
            "  inflating: /content/pipeline2/PDX_-_sailfish_-_new_expression_isoforms_readcount.txt  \n",
            "  inflating: /content/pipeline2/PDX_-_sailfish_-_new_expression_isoforms_tpm.txt  \n",
            "  inflating: /content/pipeline2/PDX_-_sailfish_-_new_expression_isoforms_fpkm.txt  \n",
            "  inflating: /content/pipeline2/PDX_-_sailfish_-_new_expression_genes_tpm.txt  \n",
            "  inflating: /content/pipeline2/PDX_-_sailfish_-_new_expression_genes_readcount.txt  \n",
            "  inflating: /content/pipeline2/PDX_-_sailfish_-_new_expression_genes_fpkm.txt  \n"
          ],
          "name": "stdout"
        }
      ]
    },
    {
      "cell_type": "code",
      "metadata": {
        "id": "bHmzIDXY5nar",
        "colab_type": "code",
        "colab": {}
      },
      "source": [
        "results = [f for f in listdir(mypath) if isfile(join(mypath, f))]"
      ],
      "execution_count": 0,
      "outputs": []
    },
    {
      "cell_type": "code",
      "metadata": {
        "id": "OGtfWVBQFTHp",
        "colab_type": "code",
        "colab": {
          "base_uri": "https://localhost:8080/",
          "height": 1000
        },
        "outputId": "5bb63eec-836f-4ec5-bb9f-ac2f51cdad32"
      },
      "source": [
        "for result in results:\n",
        "    comand = f'{result[17:-4]} = pd.read_csv(\"{mypath + result}\", sep = \"\\s+\")'\n",
        "    print(comand)\n",
        "    exec(comand)\n",
        "    print (result[:-4])\n",
        "    exec(f'print ({result[17:-4]}.describe())')"
      ],
      "execution_count": 68,
      "outputs": [
        {
          "output_type": "stream",
          "text": [
            "new_expression_genes_tpm = pd.read_csv(\"/content/pipeline2/PDX_-_sailfish_-_new_expression_genes_tpm.txt\", sep = \"\\s+\")\n",
            "PDX_-_sailfish_-_new_expression_genes_tpm\n",
            "       ER-ERR1084763.TPM  ...  TN-ERR1084810.TPM\n",
            "count       96697.000000  ...       96697.000000\n",
            "mean           10.341582  ...          10.341581\n",
            "std           899.090064  ...         610.110049\n",
            "min             0.000000  ...           0.000000\n",
            "25%             0.000000  ...           0.000000\n",
            "50%             0.000000  ...           0.000000\n",
            "75%             0.000000  ...           0.000000\n",
            "max        170483.000000  ...      100992.000000\n",
            "\n",
            "[8 rows x 20 columns]\n",
            "new_expression_genes_fpkm = pd.read_csv(\"/content/pipeline2/PDX_-_sailfish_-_new_expression_genes_fpkm.txt\", sep = \"\\s+\")\n",
            "PDX_-_sailfish_-_new_expression_genes_fpkm\n",
            "       ER-ERR1084763.NumReads  ...  TN-ERR1084810.NumReads\n",
            "count            96697.000000  ...            96697.000000\n",
            "mean                 1.366009  ...                3.001974\n",
            "std                107.891471  ...              168.062122\n",
            "min                  0.000000  ...                0.000000\n",
            "25%                  0.000000  ...                0.000000\n",
            "50%                  0.000000  ...                0.000000\n",
            "75%                  0.000000  ...                0.000000\n",
            "max              18715.200000  ...            20975.600000\n",
            "\n",
            "[8 rows x 20 columns]\n",
            "new_expression_isoforms_fpkm = pd.read_csv(\"/content/pipeline2/PDX_-_sailfish_-_new_expression_isoforms_fpkm.txt\", sep = \"\\s+\")\n",
            "PDX_-_sailfish_-_new_expression_isoforms_fpkm\n",
            "       ER-ERR1084763.NumReads  ...  TN-ERR1084810.NumReads\n",
            "count           290899.000000  ...           290899.000000\n",
            "mean                 0.482649  ...                1.060980\n",
            "std                 62.569433  ...               89.035567\n",
            "min                  0.000000  ...                0.000000\n",
            "25%                  0.000000  ...                0.000000\n",
            "50%                  0.000000  ...                0.000000\n",
            "75%                  0.000000  ...                0.000000\n",
            "max              24037.200000  ...            21359.000000\n",
            "\n",
            "[8 rows x 20 columns]\n",
            "new_expression_isoforms_tpm = pd.read_csv(\"/content/pipeline2/PDX_-_sailfish_-_new_expression_isoforms_tpm.txt\", sep = \"\\s+\")\n",
            "PDX_-_sailfish_-_new_expression_isoforms_tpm\n",
            "       ER-ERR1084763.TPM  ...  TN-ERR1084810.TPM\n",
            "count      290899.000000  ...      290899.000000\n",
            "mean            3.437619  ...           3.437620\n",
            "std           388.223003  ...         361.296844\n",
            "min             0.000000  ...           0.000000\n",
            "25%             0.000000  ...           0.000000\n",
            "50%             0.000000  ...           0.000000\n",
            "75%             0.000000  ...           0.000000\n",
            "max        111694.000000  ...      141867.000000\n",
            "\n",
            "[8 rows x 20 columns]\n",
            "new_expression_isoforms_readcount = pd.read_csv(\"/content/pipeline2/PDX_-_sailfish_-_new_expression_isoforms_readcount.txt\", sep = \"\\s+\")\n",
            "PDX_-_sailfish_-_new_expression_isoforms_readcount\n",
            "       ER-ERR1084763.NumReads  ...  TN-ERR1084810.NumReads\n",
            "count           290899.000000  ...           290899.000000\n",
            "mean                 0.482649  ...                1.060980\n",
            "std                 62.569433  ...               89.035567\n",
            "min                  0.000000  ...                0.000000\n",
            "25%                  0.000000  ...                0.000000\n",
            "50%                  0.000000  ...                0.000000\n",
            "75%                  0.000000  ...                0.000000\n",
            "max              24037.200000  ...            21359.000000\n",
            "\n",
            "[8 rows x 20 columns]\n",
            "new_expression_genes_readcount = pd.read_csv(\"/content/pipeline2/PDX_-_sailfish_-_new_expression_genes_readcount.txt\", sep = \"\\s+\")\n",
            "PDX_-_sailfish_-_new_expression_genes_readcount\n",
            "       ER-ERR1084763.NumReads  ...  TN-ERR1084810.NumReads\n",
            "count            96697.000000  ...            96697.000000\n",
            "mean                 1.366009  ...                3.001974\n",
            "std                107.891471  ...              168.062122\n",
            "min                  0.000000  ...                0.000000\n",
            "25%                  0.000000  ...                0.000000\n",
            "50%                  0.000000  ...                0.000000\n",
            "75%                  0.000000  ...                0.000000\n",
            "max              18715.200000  ...            20975.600000\n",
            "\n",
            "[8 rows x 20 columns]\n"
          ],
          "name": "stdout"
        }
      ]
    }
  ]
}