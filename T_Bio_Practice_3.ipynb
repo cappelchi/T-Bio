{
  "nbformat": 4,
  "nbformat_minor": 0,
  "metadata": {
    "colab": {
      "name": "T-Bio Practice 3.ipynb",
      "provenance": [],
      "authorship_tag": "ABX9TyM9DBIOAoGIYyuZf9+r+SXj",
      "include_colab_link": true
    },
    "kernelspec": {
      "name": "python3",
      "display_name": "Python 3"
    }
  },
  "cells": [
    {
      "cell_type": "markdown",
      "metadata": {
        "id": "view-in-github",
        "colab_type": "text"
      },
      "source": [
        "<a href=\"https://colab.research.google.com/github/cappelchi/T-Bio/blob/master/T_Bio_Practice_3.ipynb\" target=\"_parent\"><img src=\"https://colab.research.google.com/assets/colab-badge.svg\" alt=\"Open In Colab\"/></a>"
      ]
    },
    {
      "cell_type": "markdown",
      "metadata": {
        "id": "PjQkF5wTXF54",
        "colab_type": "text"
      },
      "source": [
        "Hands-on Assignment: Transcriptomics 1\n",
        "YOUR ASSIGNMENT:\n",
        "\n",
        "**Run the RNA-seq pipeline and upload an excel file with the KRAS gene expression visualized as a bar plot.**"
      ]
    },
    {
      "cell_type": "markdown",
      "metadata": {
        "id": "KjuU5iIoXb0f",
        "colab_type": "text"
      },
      "source": [
        "RNA-Seq\n",
        "Also known as whole transcriptome sequencing allows for the user to identify the RNA (mRNA generally) in a biological sample at any given time. This can be used to analyze the ever changing cellular transcriptome.\n",
        "\n",
        "Example: Jabbari, et al. used RNA-seq to investigate psoriasis and find new genes for functional analysis.  They compared their RNA-seq data to published array studies and found 1700 new candiadates. These were validated by qPCR, and comparison to functional databases for psoriasis supported their role in pathogenesis.\n",
        "\n",
        "<img src=\"https://raw.githubusercontent.com/cappelchi/T-Bio/master/practice3/RNA-Seq1.jpg\" width=\"600\" height=\"300\" />\n"
      ]
    },
    {
      "cell_type": "markdown",
      "metadata": {
        "id": "YCeYCfTQdKnr",
        "colab_type": "text"
      },
      "source": [
        "## **Pipeline:**"
      ]
    },
    {
      "cell_type": "markdown",
      "metadata": {
        "id": "2kxXAk32CYIj",
        "colab_type": "text"
      },
      "source": [
        "### Description:\n",
        "\n",
        "Step: no Pre-processing raw reads\n",
        "\n",
        "Step 1: Mapping on a reference genome\n",
        "\n",
        "Step 2: Calculating the abundance of reads aligned to each genomic element (i.e. exon, gene or isoform)\n",
        "\n",
        "Step 3: Biological Interpretation of gene expression profiles\n",
        "\n",
        "<img src=\"https://raw.githubusercontent.com/cappelchi/T-Bio/master/practice3/Pipeline1_tr1_p3.png\" width=\"600\" height=\"300\" />\n"
      ]
    },
    {
      "cell_type": "markdown",
      "metadata": {
        "id": "5fAaghHgDNgw",
        "colab_type": "text"
      },
      "source": [
        "### Step 1: Mapping on a reference genome"
      ]
    },
    {
      "cell_type": "markdown",
      "metadata": {
        "id": "F3_A9_IhaBPN",
        "colab_type": "text"
      },
      "source": [
        "#### Bowtie2\n",
        "\n",
        "Bowtie2  is a fast alignment algorithm that is based on the “seed” (or k-mer) approach. “Seed” substrings from the read and their reverse complements are extracted and aligned to the reference in an ungapped fashion. Then their positions on the reference are recorded and they are extended into full alignments using SIMD-accelerated dynamic programming.\n",
        "\n",
        "<img src=\"https://raw.githubusercontent.com/cappelchi/T-Bio/master/practice3/bowtie2-2.jpg\" width=\"600\" height=\"300\" />"
      ]
    },
    {
      "cell_type": "markdown",
      "metadata": {
        "id": "NO5nnzl2SXvH",
        "colab_type": "text"
      },
      "source": [
        "### Step 2: Calculating the abundance of reads aligned to each genomic element (i.e. exon, gene or isoform)"
      ]
    },
    {
      "cell_type": "markdown",
      "metadata": {
        "id": "R7TwsGrlY7N9",
        "colab_type": "text"
      },
      "source": [
        "#### RSEM \n",
        "(RNA Seq using Expectation Maximization). RSEM is a software package for quantifying gene and isoform abundances from single-end or paired-end RNA-Seq data. RSEM outputs abundance estimates, 95% credibility intervals, and visualization files and can also simulate RNA-Seq data. In contrast to other existing tools, the software does not require a reference genome. Thus, in combination with a de novo transcriptome assembler, RSEM enables accurate transcript quantification for species without sequenced genomes. On simulated and real data sets, RSEM has superior or comparable performance to quantification methods that rely on a reference genome. Taking advantage of RSEM's ability to effectively use ambiguously-mapping reads, we show that accurate gene-level abundance estimates are best obtained with large numbers of short single-end reads. On the other hand, estimates of the relative frequencies of isoforms within single genes may be improved through the use of paired-end reads, depending on the number of possible splice forms for each gene.\n",
        "\n",
        "<img src=\"https://raw.githubusercontent.com/cappelchi/T-Bio/master/practice3/RSEM.png\" width=\"500\" height=\"270\">"
      ]
    },
    {
      "cell_type": "markdown",
      "metadata": {
        "id": "E_2NjR24kXtb",
        "colab_type": "text"
      },
      "source": [
        "### Step 3: Biological Interpretation of gene expression profiles"
      ]
    },
    {
      "cell_type": "code",
      "metadata": {
        "id": "ZZS7rl5no2qo",
        "colab_type": "code",
        "colab": {}
      },
      "source": [
        "mypath = '/content/pipeline1p1ch3/'"
      ],
      "execution_count": 0,
      "outputs": []
    },
    {
      "cell_type": "code",
      "metadata": {
        "id": "1ucQk6rRTbMk",
        "colab_type": "code",
        "outputId": "2432866e-7e09-4385-d1fa-a0c9ec280107",
        "colab": {
          "base_uri": "https://localhost:8080/",
          "height": 390
        }
      },
      "source": [
        "!wget https://raw.githubusercontent.com/cappelchi/T-Bio/master/practice2/pipeline1/PDX_project_pre-processing__bowtie2-t__RSEM_AllResultsRSEMRun.zip\n",
        "!unzip PDX_project_pre-processing__bowtie2-t__RSEM_AllResultsRSEMRun.zip -d {mypath}"
      ],
      "execution_count": 0,
      "outputs": [
        {
          "output_type": "stream",
          "text": [
            "--2020-03-05 12:52:43--  https://raw.githubusercontent.com/cappelchi/T-Bio/master/practice2/pipeline1/PDX_project_pre-processing__bowtie2-t__RSEM_AllResultsRSEMRun.zip\n",
            "Resolving raw.githubusercontent.com (raw.githubusercontent.com)... 151.101.0.133, 151.101.64.133, 151.101.128.133, ...\n",
            "Connecting to raw.githubusercontent.com (raw.githubusercontent.com)|151.101.0.133|:443... connected.\n",
            "HTTP request sent, awaiting response... 200 OK\n",
            "Length: 3040179 (2.9M) [application/zip]\n",
            "Saving to: ‘PDX_project_pre-processing__bowtie2-t__RSEM_AllResultsRSEMRun.zip.1’\n",
            "\n",
            "\r          PDX_proje   0%[                    ]       0  --.-KB/s               \r         PDX_projec  63%[===========>        ]   1.83M  9.10MB/s               \rPDX_project_pre-pro 100%[===================>]   2.90M  10.9MB/s    in 0.3s    \n",
            "\n",
            "2020-03-05 12:52:43 (10.9 MB/s) - ‘PDX_project_pre-processing__bowtie2-t__RSEM_AllResultsRSEMRun.zip.1’ saved [3040179/3040179]\n",
            "\n",
            "Archive:  PDX_project_pre-processing__bowtie2-t__RSEM_AllResultsRSEMRun.zip\n",
            "  inflating: mypath/expression_genes_FPKM_not_filtered.txt  \n",
            "  inflating: mypath/expression_genes_FPKM.txt  \n",
            "  inflating: mypath/expression_genes_not_filtered.txt  \n",
            "  inflating: mypath/expression_genes.txt  \n",
            "  inflating: mypath/expression_isoforms_FPKM_not_filtered.txt  \n",
            "  inflating: mypath/expression_isoforms_FPKM.txt  \n",
            "  inflating: mypath/expression_isoforms_not_filtered.txt  \n",
            "  inflating: mypath/expression_isoforms.txt  \n",
            "  inflating: mypath/temp.txt         \n"
          ],
          "name": "stdout"
        }
      ]
    },
    {
      "cell_type": "code",
      "metadata": {
        "id": "NCsOCiJbcFHn",
        "colab_type": "code",
        "colab": {}
      },
      "source": [
        "#!pip install jupyter-datatables\n",
        "#!pip install pandas-summary"
      ],
      "execution_count": 0,
      "outputs": []
    },
    {
      "cell_type": "code",
      "metadata": {
        "id": "BNNtZeMqmwnV",
        "colab_type": "code",
        "colab": {}
      },
      "source": [
        "import pandas as pd\n",
        "#from jupyter_datatables import init_datatables_mode\n",
        "#init_datatables_mode()  # initialize [DataTables]\n",
        "#from pandas_summary import DataFrameSummary\n",
        "from os import listdir\n",
        "from os.path import isfile, join"
      ],
      "execution_count": 0,
      "outputs": []
    },
    {
      "cell_type": "code",
      "metadata": {
        "id": "v0t5Z15poqn_",
        "colab_type": "code",
        "colab": {}
      },
      "source": [
        "results = [f for f in listdir(mypath) if isfile(join(mypath, f))]"
      ],
      "execution_count": 0,
      "outputs": []
    },
    {
      "cell_type": "code",
      "metadata": {
        "id": "W1ZhXHxC1iQb",
        "colab_type": "code",
        "outputId": "182e47f1-fbd3-4f78-ae2b-478af0a2ef74",
        "colab": {
          "base_uri": "https://localhost:8080/",
          "height": 1000
        }
      },
      "source": [
        "for result in results:\n",
        "    comand = f'{result[:-4]} = pd.read_csv(\"{mypath + result}\", sep = \"\\s+\")'\n",
        "    exec(comand)\n",
        "    print (result[:-4])\n",
        "    exec(f'print ({result[:-4]}.describe())')"
      ],
      "execution_count": 0,
      "outputs": [
        {
          "output_type": "stream",
          "text": [
            "expression_genes_FPKM\n",
            "       ER-ERR1084763_PE  ER-ERR1084764_PE  ...  TN-ERR1084809_PE  TN-ERR1084810_PE\n",
            "count       3310.000000       3310.000000  ...       3310.000000        3310.00000\n",
            "mean         248.134335        252.239305  ...        307.271483         287.03629\n",
            "std         3580.248232       3467.634219  ...       3731.114167        3714.63254\n",
            "min            0.000000          0.000000  ...          0.000000           0.00000\n",
            "25%            0.000000          0.000000  ...          0.000000           0.00000\n",
            "50%            0.000000          0.000000  ...          0.000000           0.00000\n",
            "75%            0.000000          0.000000  ...          4.697500           2.55000\n",
            "max       110309.210000     102040.800000  ...     113424.790000      123289.43000\n",
            "\n",
            "[8 rows x 20 columns]\n",
            "temp\n",
            "       ER-ERR1084763_PE  ER-ERR1084764_PE  ...  TN-ERR1084809_PE  TN-ERR1084810_PE\n",
            "count       4981.000000       4981.000000  ...       4981.000000       4981.000000\n",
            "mean         164.891508        167.619364  ...        204.189376        190.742425\n",
            "std         2313.838779       2322.859579  ...       2691.070898       2394.280063\n",
            "min            0.000000          0.000000  ...          0.000000          0.000000\n",
            "25%            0.000000          0.000000  ...          0.000000          0.000000\n",
            "50%            0.000000          0.000000  ...          0.000000          0.000000\n",
            "75%            0.000000          0.000000  ...          4.960000          2.740000\n",
            "max        75785.630000      85074.960000  ...     113160.900000     114576.000000\n",
            "\n",
            "[8 rows x 20 columns]\n",
            "expression_genes\n",
            "       ER-ERR1084763_PE  ER-ERR1084764_PE  ...  TN-ERR1084809_PE  TN-ERR1084810_PE\n",
            "count       3266.000000       3266.000000  ...       3266.000000       3266.000000\n",
            "mean          23.546396         24.972186  ...         40.760814         54.926880\n",
            "std          359.937564        366.870857  ...        446.496205        591.253812\n",
            "min            0.000000          0.000000  ...          0.000000          0.000000\n",
            "25%            0.000000          0.000000  ...          0.000000          0.000000\n",
            "50%            0.000000          0.000000  ...          0.000000          0.000000\n",
            "75%            0.000000          0.000000  ...          1.000000          1.000000\n",
            "max        14753.160000      14150.690000  ...      17199.950000      19684.360000\n",
            "\n",
            "[8 rows x 20 columns]\n",
            "expression_genes_FPKM_not_filtered\n",
            "       ER-ERR1084763_PE  ER-ERR1084764_PE  ...  TN-ERR1084809_PE  TN-ERR1084810_PE\n",
            "count      96697.000000      96697.000000  ...      96697.000000      96697.000000\n",
            "mean           8.493801          8.634312  ...         10.518142          9.825641\n",
            "std          663.838719        643.108972  ...        692.469690        689.142373\n",
            "min            0.000000          0.000000  ...          0.000000          0.000000\n",
            "25%            0.000000          0.000000  ...          0.000000          0.000000\n",
            "50%            0.000000          0.000000  ...          0.000000          0.000000\n",
            "75%            0.000000          0.000000  ...          0.000000          0.000000\n",
            "max       110309.210000     102040.800000  ...     113424.790000     123289.430000\n",
            "\n",
            "[8 rows x 20 columns]\n",
            "expression_isoforms_not_filtered\n",
            "       ER-ERR1084763_PE  ER-ERR1084764_PE  ...  TN-ERR1084809_PE  TN-ERR1084810_PE\n",
            "count     290899.000000     290899.000000  ...     290899.000000     290899.000000\n",
            "mean           0.264373          0.280372  ...          0.457667          0.616709\n",
            "std           31.253007         32.159690  ...         40.304040         49.542262\n",
            "min            0.000000          0.000000  ...          0.000000          0.000000\n",
            "25%            0.000000          0.000000  ...          0.000000          0.000000\n",
            "50%            0.000000          0.000000  ...          0.000000          0.000000\n",
            "75%            0.000000          0.000000  ...          0.000000          0.000000\n",
            "max         9926.070000       9753.870000  ...      13325.140000      12595.030000\n",
            "\n",
            "[8 rows x 20 columns]\n",
            "expression_isoforms\n",
            "       ER-ERR1084763_PE  ER-ERR1084764_PE  ...  TN-ERR1084809_PE  TN-ERR1084810_PE\n",
            "count       4865.000000       4865.000000  ...       4865.000000       4865.000000\n",
            "mean          15.806925         16.764218  ...         27.361998         36.872993\n",
            "std          241.184847        248.149235  ...        310.506088        381.383853\n",
            "min            0.000000          0.000000  ...          0.000000          0.000000\n",
            "25%            0.000000          0.000000  ...          0.000000          0.000000\n",
            "50%            0.000000          0.000000  ...          0.000000          0.000000\n",
            "75%            0.000000          0.000000  ...          1.000000          1.000000\n",
            "max         9926.070000       9753.870000  ...      13325.140000      12595.030000\n",
            "\n",
            "[8 rows x 20 columns]\n",
            "expression_isoforms_FPKM\n",
            "       ER-ERR1084763_PE  ER-ERR1084764_PE  ...  TN-ERR1084809_PE  TN-ERR1084810_PE\n",
            "count       4981.000000       4981.000000  ...       4981.000000       4981.000000\n",
            "mean         164.891508        167.619364  ...        204.189376        190.742425\n",
            "std         2313.838779       2322.859579  ...       2691.070898       2394.280063\n",
            "min            0.000000          0.000000  ...          0.000000          0.000000\n",
            "25%            0.000000          0.000000  ...          0.000000          0.000000\n",
            "50%            0.000000          0.000000  ...          0.000000          0.000000\n",
            "75%            0.000000          0.000000  ...          4.960000          2.740000\n",
            "max        75785.630000      85074.960000  ...     113160.900000     114576.000000\n",
            "\n",
            "[8 rows x 20 columns]\n",
            "expression_isoforms_FPKM_not_filtered\n",
            "       ER-ERR1084763_PE  ER-ERR1084764_PE  ...  TN-ERR1084809_PE  TN-ERR1084810_PE\n",
            "count     290899.000000     290899.000000  ...     290899.000000     290899.000000\n",
            "mean           2.823403          2.870110  ...          3.496309          3.266116\n",
            "std          303.500078        304.702496  ...        353.097784        314.246084\n",
            "min            0.000000          0.000000  ...          0.000000          0.000000\n",
            "25%            0.000000          0.000000  ...          0.000000          0.000000\n",
            "50%            0.000000          0.000000  ...          0.000000          0.000000\n",
            "75%            0.000000          0.000000  ...          0.000000          0.000000\n",
            "max        75785.630000      85074.960000  ...     113160.900000     114576.000000\n",
            "\n",
            "[8 rows x 20 columns]\n",
            "expression_genes_not_filtered\n",
            "       ER-ERR1084763_PE  ER-ERR1084764_PE  ...  TN-ERR1084809_PE  TN-ERR1084810_PE\n",
            "count      96697.000000      96697.000000  ...      96697.000000      96697.000000\n",
            "mean           0.795330          0.843459  ...          1.376827          1.855280\n",
            "std           66.276693         67.564847  ...         82.375336        109.097566\n",
            "min            0.000000          0.000000  ...          0.000000          0.000000\n",
            "25%            0.000000          0.000000  ...          0.000000          0.000000\n",
            "50%            0.000000          0.000000  ...          0.000000          0.000000\n",
            "75%            0.000000          0.000000  ...          0.000000          0.000000\n",
            "max        14753.160000      14150.690000  ...      17199.950000      19684.360000\n",
            "\n",
            "[8 rows x 20 columns]\n"
          ],
          "name": "stdout"
        }
      ]
    }
  ]
}